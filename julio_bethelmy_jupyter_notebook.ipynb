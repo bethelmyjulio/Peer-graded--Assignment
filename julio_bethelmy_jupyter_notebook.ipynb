{
  "metadata": {
    "kernelspec": {
      "name": "python",
      "display_name": "Pyolite",
      "language": "python"
    },
    "language_info": {
      "codemirror_mode": {
        "name": "ipython",
        "version": 3
      },
      "file_extension": ".py",
      "mimetype": "text/x-python",
      "name": "python",
      "nbconvert_exporter": "python",
      "pygments_lexer": "ipython3",
      "version": "3.7.6"
    }
  },
  "nbformat_minor": 4,
  "nbformat": 4,
  "cells": [
    {
      "cell_type": "markdown",
      "source": "<html><h1>My Jupyter Notebook on IBM Watson Studio</h1></html>",
      "metadata": {}
    },
    {
      "cell_type": "markdown",
      "source": "<html><bold>Julio H. Bethelmi Castro, I am SEO specilist</bold></html>",
      "metadata": {}
    },
    {
      "cell_type": "markdown",
      "source": "<html><em>I am interested in data science because all companies need to learn from the data and take actions or strategies using insights from the data</em></html>",
      "metadata": {}
    },
    {
      "cell_type": "markdown",
      "source": "<html><h3>the next code is an arithmetic operation</h3></html>",
      "metadata": {}
    },
    {
      "cell_type": "code",
      "source": "1 + 3",
      "metadata": {},
      "execution_count": null,
      "outputs": []
    },
    {
      "cell_type": "markdown",
      "source": " <hr>   \n\n<ul>\n<li>Example 1</li>\n<li>Example 2</li>\n<li>Example 3</li>\n</ul>\n    \n\n<body>\n<table>\n<tr>\n<th>Book Name</th>\n<th>Author Name</th>\n<th>Genre</th>\n</tr>\n<tr>\n<td>The Book Thief</td>\n<td>Markus Zusak</td>\n<td>Historical Fiction</td>\n</tr>\n<tr>\n<td>The Cruel Prince</td>\n<td>Holly Black</td>\n<td>Fantasy</td>\n</tr>\n",
      "metadata": {}
    },
    {
      "cell_type": "code",
      "source": "",
      "metadata": {},
      "execution_count": null,
      "outputs": []
    }
  ]
}